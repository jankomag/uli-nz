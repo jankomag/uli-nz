{
 "cells": [
  {
   "cell_type": "markdown",
   "id": "4c123487",
   "metadata": {},
   "source": [
    "# Network Analysis on Auckland road data\n",
    "### Import packages"
   ]
  },
  {
   "cell_type": "code",
   "execution_count": 18,
   "id": "b5ab2fe2-3543-4157-9801-e43140aec161",
   "metadata": {},
   "outputs": [],
   "source": [
    "import numpy as np\n",
    "import pandas as pd\n",
    "import osmnx as ox\n",
    "import geopandas as gpd\n",
    "from shapely.geometry import MultiPolygon, Point\n",
    "from shapely.ops import transform\n",
    "import pyproj\n",
    "import networkx as nx\n",
    "import math\n",
    "import matplotlib.pyplot as plt\n",
    "from pyproj import CRS\n",
    "import itertools\n",
    "import networkx as nx"
   ]
  },
  {
   "cell_type": "markdown",
   "id": "eec11a78",
   "metadata": {},
   "source": [
    "### Importing the road network"
   ]
  },
  {
   "cell_type": "code",
   "execution_count": 21,
   "id": "8ab83c63",
   "metadata": {},
   "outputs": [],
   "source": [
    "auck_network = ox.io.load_graphml(\"data/network_analysis/auckland_network_walk_unconsolidated.graphml\")"
   ]
  },
  {
   "cell_type": "code",
   "execution_count": 22,
   "id": "55ccf9cf",
   "metadata": {
    "scrolled": true
   },
   "outputs": [
    {
     "ename": "KeyboardInterrupt",
     "evalue": "",
     "output_type": "error",
     "traceback": [
      "\u001b[0;31m---------------------------------------------------------------------------\u001b[0m",
      "\u001b[0;31mKeyboardInterrupt\u001b[0m                         Traceback (most recent call last)",
      "Cell \u001b[0;32mIn [22], line 1\u001b[0m\n\u001b[0;32m----> 1\u001b[0m \u001b[43mox\u001b[49m\u001b[38;5;241;43m.\u001b[39;49m\u001b[43mplot_graph\u001b[49m\u001b[43m(\u001b[49m\u001b[43mauck_network\u001b[49m\u001b[43m)\u001b[49m\n",
      "File \u001b[0;32m/opt/miniconda3/envs/ox/lib/python3.10/site-packages/osmnx/plot.py:213\u001b[0m, in \u001b[0;36mplot_graph\u001b[0;34m(G, ax, figsize, bgcolor, node_color, node_size, node_alpha, node_edgecolor, node_zorder, edge_color, edge_linewidth, edge_alpha, show, close, save, filepath, dpi, bbox)\u001b[0m\n\u001b[1;32m    210\u001b[0m \u001b[38;5;28;01mif\u001b[39;00m max_edge_lw \u001b[38;5;241m>\u001b[39m \u001b[38;5;241m0\u001b[39m:\n\u001b[1;32m    211\u001b[0m     \u001b[38;5;66;03m# plot the edges' geometries\u001b[39;00m\n\u001b[1;32m    212\u001b[0m     gdf_edges \u001b[38;5;241m=\u001b[39m utils_graph\u001b[38;5;241m.\u001b[39mgraph_to_gdfs(G, nodes\u001b[38;5;241m=\u001b[39m\u001b[38;5;28;01mFalse\u001b[39;00m)[\u001b[38;5;124m\"\u001b[39m\u001b[38;5;124mgeometry\u001b[39m\u001b[38;5;124m\"\u001b[39m]\n\u001b[0;32m--> 213\u001b[0m     ax \u001b[38;5;241m=\u001b[39m \u001b[43mgdf_edges\u001b[49m\u001b[38;5;241;43m.\u001b[39;49m\u001b[43mplot\u001b[49m\u001b[43m(\u001b[49m\u001b[43max\u001b[49m\u001b[38;5;241;43m=\u001b[39;49m\u001b[43max\u001b[49m\u001b[43m,\u001b[49m\u001b[43m \u001b[49m\u001b[43mcolor\u001b[49m\u001b[38;5;241;43m=\u001b[39;49m\u001b[43medge_color\u001b[49m\u001b[43m,\u001b[49m\u001b[43m \u001b[49m\u001b[43mlw\u001b[49m\u001b[38;5;241;43m=\u001b[39;49m\u001b[43medge_linewidth\u001b[49m\u001b[43m,\u001b[49m\u001b[43m \u001b[49m\u001b[43malpha\u001b[49m\u001b[38;5;241;43m=\u001b[39;49m\u001b[43medge_alpha\u001b[49m\u001b[43m,\u001b[49m\u001b[43m \u001b[49m\u001b[43mzorder\u001b[49m\u001b[38;5;241;43m=\u001b[39;49m\u001b[38;5;241;43m1\u001b[39;49m\u001b[43m)\u001b[49m\n\u001b[1;32m    215\u001b[0m \u001b[38;5;28;01mif\u001b[39;00m max_node_size \u001b[38;5;241m>\u001b[39m \u001b[38;5;241m0\u001b[39m:\n\u001b[1;32m    216\u001b[0m     \u001b[38;5;66;03m# scatter plot the nodes' x/y coordinates\u001b[39;00m\n\u001b[1;32m    217\u001b[0m     gdf_nodes \u001b[38;5;241m=\u001b[39m utils_graph\u001b[38;5;241m.\u001b[39mgraph_to_gdfs(G, edges\u001b[38;5;241m=\u001b[39m\u001b[38;5;28;01mFalse\u001b[39;00m, node_geometry\u001b[38;5;241m=\u001b[39m\u001b[38;5;28;01mFalse\u001b[39;00m)[[\u001b[38;5;124m\"\u001b[39m\u001b[38;5;124mx\u001b[39m\u001b[38;5;124m\"\u001b[39m, \u001b[38;5;124m\"\u001b[39m\u001b[38;5;124my\u001b[39m\u001b[38;5;124m\"\u001b[39m]]\n",
      "File \u001b[0;32m/opt/miniconda3/envs/ox/lib/python3.10/site-packages/geopandas/geoseries.py:809\u001b[0m, in \u001b[0;36mGeoSeries.plot\u001b[0;34m(self, *args, **kwargs)\u001b[0m\n\u001b[1;32m    807\u001b[0m \u001b[38;5;129m@doc\u001b[39m(plot_series)\n\u001b[1;32m    808\u001b[0m \u001b[38;5;28;01mdef\u001b[39;00m \u001b[38;5;21mplot\u001b[39m(\u001b[38;5;28mself\u001b[39m, \u001b[38;5;241m*\u001b[39margs, \u001b[38;5;241m*\u001b[39m\u001b[38;5;241m*\u001b[39mkwargs):\n\u001b[0;32m--> 809\u001b[0m     \u001b[38;5;28;01mreturn\u001b[39;00m \u001b[43mplot_series\u001b[49m\u001b[43m(\u001b[49m\u001b[38;5;28;43mself\u001b[39;49m\u001b[43m,\u001b[49m\u001b[43m \u001b[49m\u001b[38;5;241;43m*\u001b[39;49m\u001b[43margs\u001b[49m\u001b[43m,\u001b[49m\u001b[43m \u001b[49m\u001b[38;5;241;43m*\u001b[39;49m\u001b[38;5;241;43m*\u001b[39;49m\u001b[43mkwargs\u001b[49m\u001b[43m)\u001b[49m\n",
      "File \u001b[0;32m/opt/miniconda3/envs/ox/lib/python3.10/site-packages/geopandas/plotting.py:468\u001b[0m, in \u001b[0;36mplot_series\u001b[0;34m(s, cmap, color, ax, figsize, aspect, **style_kwds)\u001b[0m\n\u001b[1;32m    465\u001b[0m     values_ \u001b[38;5;241m=\u001b[39m values[line_idx] \u001b[38;5;28;01mif\u001b[39;00m cmap \u001b[38;5;28;01melse\u001b[39;00m \u001b[38;5;28;01mNone\u001b[39;00m\n\u001b[1;32m    466\u001b[0m     color_ \u001b[38;5;241m=\u001b[39m expl_color[line_idx] \u001b[38;5;28;01mif\u001b[39;00m color_given \u001b[38;5;28;01melse\u001b[39;00m color\n\u001b[0;32m--> 468\u001b[0m     \u001b[43m_plot_linestring_collection\u001b[49m\u001b[43m(\u001b[49m\n\u001b[1;32m    469\u001b[0m \u001b[43m        \u001b[49m\u001b[43max\u001b[49m\u001b[43m,\u001b[49m\u001b[43m \u001b[49m\u001b[43mlines\u001b[49m\u001b[43m,\u001b[49m\u001b[43m \u001b[49m\u001b[43mvalues_\u001b[49m\u001b[43m,\u001b[49m\u001b[43m \u001b[49m\u001b[43mcolor\u001b[49m\u001b[38;5;241;43m=\u001b[39;49m\u001b[43mcolor_\u001b[49m\u001b[43m,\u001b[49m\u001b[43m \u001b[49m\u001b[43mcmap\u001b[49m\u001b[38;5;241;43m=\u001b[39;49m\u001b[43mcmap\u001b[49m\u001b[43m,\u001b[49m\u001b[43m \u001b[49m\u001b[38;5;241;43m*\u001b[39;49m\u001b[38;5;241;43m*\u001b[39;49m\u001b[43mstyle_kwds\u001b[49m\n\u001b[1;32m    470\u001b[0m \u001b[43m    \u001b[49m\u001b[43m)\u001b[49m\n\u001b[1;32m    472\u001b[0m \u001b[38;5;66;03m# plot all Points in the same collection\u001b[39;00m\n\u001b[1;32m    473\u001b[0m points \u001b[38;5;241m=\u001b[39m expl_series[point_idx]\n",
      "File \u001b[0;32m/opt/miniconda3/envs/ox/lib/python3.10/site-packages/geopandas/plotting.py:233\u001b[0m, in \u001b[0;36m_plot_linestring_collection\u001b[0;34m(ax, geoms, values, color, cmap, vmin, vmax, **kwargs)\u001b[0m\n\u001b[1;32m    229\u001b[0m     kwargs[\u001b[38;5;124m\"\u001b[39m\u001b[38;5;124mcolor\u001b[39m\u001b[38;5;124m\"\u001b[39m] \u001b[38;5;241m=\u001b[39m color\n\u001b[1;32m    231\u001b[0m _expand_kwargs(kwargs, multiindex)\n\u001b[0;32m--> 233\u001b[0m segments \u001b[38;5;241m=\u001b[39m [np\u001b[38;5;241m.\u001b[39marray(linestring\u001b[38;5;241m.\u001b[39mcoords)[:, :\u001b[38;5;241m2\u001b[39m] \u001b[38;5;28;01mfor\u001b[39;00m linestring \u001b[38;5;129;01min\u001b[39;00m geoms]\n\u001b[1;32m    234\u001b[0m collection \u001b[38;5;241m=\u001b[39m LineCollection(segments, \u001b[38;5;241m*\u001b[39m\u001b[38;5;241m*\u001b[39mkwargs)\n\u001b[1;32m    236\u001b[0m \u001b[38;5;28;01mif\u001b[39;00m values \u001b[38;5;129;01mis\u001b[39;00m \u001b[38;5;129;01mnot\u001b[39;00m \u001b[38;5;28;01mNone\u001b[39;00m:\n",
      "File \u001b[0;32m/opt/miniconda3/envs/ox/lib/python3.10/site-packages/geopandas/plotting.py:233\u001b[0m, in \u001b[0;36m<listcomp>\u001b[0;34m(.0)\u001b[0m\n\u001b[1;32m    229\u001b[0m     kwargs[\u001b[38;5;124m\"\u001b[39m\u001b[38;5;124mcolor\u001b[39m\u001b[38;5;124m\"\u001b[39m] \u001b[38;5;241m=\u001b[39m color\n\u001b[1;32m    231\u001b[0m _expand_kwargs(kwargs, multiindex)\n\u001b[0;32m--> 233\u001b[0m segments \u001b[38;5;241m=\u001b[39m [\u001b[43mnp\u001b[49m\u001b[38;5;241;43m.\u001b[39;49m\u001b[43marray\u001b[49m\u001b[43m(\u001b[49m\u001b[43mlinestring\u001b[49m\u001b[38;5;241;43m.\u001b[39;49m\u001b[43mcoords\u001b[49m\u001b[43m)\u001b[49m[:, :\u001b[38;5;241m2\u001b[39m] \u001b[38;5;28;01mfor\u001b[39;00m linestring \u001b[38;5;129;01min\u001b[39;00m geoms]\n\u001b[1;32m    234\u001b[0m collection \u001b[38;5;241m=\u001b[39m LineCollection(segments, \u001b[38;5;241m*\u001b[39m\u001b[38;5;241m*\u001b[39mkwargs)\n\u001b[1;32m    236\u001b[0m \u001b[38;5;28;01mif\u001b[39;00m values \u001b[38;5;129;01mis\u001b[39;00m \u001b[38;5;129;01mnot\u001b[39;00m \u001b[38;5;28;01mNone\u001b[39;00m:\n",
      "File \u001b[0;32m/opt/miniconda3/envs/ox/lib/python3.10/site-packages/shapely/coords.py:157\u001b[0m, in \u001b[0;36mCoordinateSequence.array_interface\u001b[0;34m(self)\u001b[0m\n\u001b[1;32m    151\u001b[0m \u001b[38;5;28;01melse\u001b[39;00m:\n\u001b[1;32m    152\u001b[0m     \u001b[38;5;28;01mraise\u001b[39;00m \u001b[38;5;167;01mValueError\u001b[39;00m(\n\u001b[1;32m    153\u001b[0m         \u001b[38;5;124m\"\u001b[39m\u001b[38;5;124mUnsupported byteorder: neither little nor big-endian\u001b[39m\u001b[38;5;124m\"\u001b[39m)\n\u001b[1;32m    154\u001b[0m ai \u001b[38;5;241m=\u001b[39m {\n\u001b[1;32m    155\u001b[0m     \u001b[38;5;124m'\u001b[39m\u001b[38;5;124mversion\u001b[39m\u001b[38;5;124m'\u001b[39m: \u001b[38;5;241m3\u001b[39m,\n\u001b[1;32m    156\u001b[0m     \u001b[38;5;124m'\u001b[39m\u001b[38;5;124mtypestr\u001b[39m\u001b[38;5;124m'\u001b[39m: typestr,\n\u001b[0;32m--> 157\u001b[0m     \u001b[38;5;124m'\u001b[39m\u001b[38;5;124mdata\u001b[39m\u001b[38;5;124m'\u001b[39m: \u001b[38;5;28;43mself\u001b[39;49m\u001b[38;5;241;43m.\u001b[39;49m\u001b[43m_ctypes\u001b[49m,\n\u001b[1;32m    158\u001b[0m     }\n\u001b[1;32m    159\u001b[0m ai\u001b[38;5;241m.\u001b[39mupdate({\u001b[38;5;124m'\u001b[39m\u001b[38;5;124mshape\u001b[39m\u001b[38;5;124m'\u001b[39m: (\u001b[38;5;28mlen\u001b[39m(\u001b[38;5;28mself\u001b[39m), \u001b[38;5;28mself\u001b[39m\u001b[38;5;241m.\u001b[39m_ndim)})\n\u001b[1;32m    160\u001b[0m \u001b[38;5;28;01mreturn\u001b[39;00m ai\n",
      "File \u001b[0;32m/opt/miniconda3/envs/ox/lib/python3.10/site-packages/shapely/speedups/_speedups.pyx:423\u001b[0m, in \u001b[0;36mshapely.speedups._speedups.coordseq_ctypes\u001b[0;34m()\u001b[0m\n",
      "File \u001b[0;32m/opt/miniconda3/envs/ox/lib/python3.10/site-packages/shapely/coords.py:44\u001b[0m, in \u001b[0;36mCoordinateSequence._update\u001b[0;34m(self)\u001b[0m\n\u001b[1;32m     43\u001b[0m \u001b[38;5;28;01mdef\u001b[39;00m \u001b[38;5;21m_update\u001b[39m(\u001b[38;5;28mself\u001b[39m):\n\u001b[0;32m---> 44\u001b[0m     \u001b[38;5;28;01mif\u001b[39;00m \u001b[38;5;28;43mself\u001b[39;49m\u001b[38;5;241;43m.\u001b[39;49m\u001b[43m__p__\u001b[49m\u001b[38;5;241;43m.\u001b[39;49m\u001b[43mis_empty\u001b[49m:\n\u001b[1;32m     45\u001b[0m         \u001b[38;5;28mself\u001b[39m\u001b[38;5;241m.\u001b[39m_ndim \u001b[38;5;241m=\u001b[39m \u001b[38;5;28;01mNone\u001b[39;00m\n\u001b[1;32m     46\u001b[0m         \u001b[38;5;28mself\u001b[39m\u001b[38;5;241m.\u001b[39m_cseq \u001b[38;5;241m=\u001b[39m \u001b[38;5;28;01mNone\u001b[39;00m\n",
      "File \u001b[0;32m/opt/miniconda3/envs/ox/lib/python3.10/site-packages/shapely/geometry/base.py:718\u001b[0m, in \u001b[0;36mBaseGeometry.is_empty\u001b[0;34m(self)\u001b[0m\n\u001b[1;32m    715\u001b[0m \u001b[38;5;129m@property\u001b[39m\n\u001b[1;32m    716\u001b[0m \u001b[38;5;28;01mdef\u001b[39;00m \u001b[38;5;21mis_empty\u001b[39m(\u001b[38;5;28mself\u001b[39m):\n\u001b[1;32m    717\u001b[0m     \u001b[38;5;124;03m\"\"\"True if the set of points in this geometry is empty, else False\"\"\"\u001b[39;00m\n\u001b[0;32m--> 718\u001b[0m     \u001b[38;5;28;01mreturn\u001b[39;00m (\u001b[38;5;28mself\u001b[39m\u001b[38;5;241m.\u001b[39m_geom \u001b[38;5;129;01mis\u001b[39;00m \u001b[38;5;28;01mNone\u001b[39;00m) \u001b[38;5;129;01mor\u001b[39;00m \u001b[38;5;28mbool\u001b[39m(\u001b[38;5;28;43mself\u001b[39;49m\u001b[38;5;241;43m.\u001b[39;49m\u001b[43mimpl\u001b[49m\u001b[43m[\u001b[49m\u001b[38;5;124;43m'\u001b[39;49m\u001b[38;5;124;43mis_empty\u001b[39;49m\u001b[38;5;124;43m'\u001b[39;49m\u001b[43m]\u001b[49m\u001b[43m(\u001b[49m\u001b[38;5;28;43mself\u001b[39;49m\u001b[43m)\u001b[49m)\n",
      "File \u001b[0;32m/opt/miniconda3/envs/ox/lib/python3.10/site-packages/shapely/predicates.py:23\u001b[0m, in \u001b[0;36mUnaryPredicate.__call__\u001b[0;34m(self, this)\u001b[0m\n\u001b[1;32m     21\u001b[0m \u001b[38;5;28;01mclass\u001b[39;00m \u001b[38;5;21;01mUnaryPredicate\u001b[39;00m(Delegating):\n\u001b[0;32m---> 23\u001b[0m     \u001b[38;5;28;01mdef\u001b[39;00m \u001b[38;5;21m__call__\u001b[39m(\u001b[38;5;28mself\u001b[39m, this):\n\u001b[1;32m     24\u001b[0m         \u001b[38;5;28mself\u001b[39m\u001b[38;5;241m.\u001b[39m_validate(this)\n\u001b[1;32m     25\u001b[0m         \u001b[38;5;28;01mreturn\u001b[39;00m \u001b[38;5;28mself\u001b[39m\u001b[38;5;241m.\u001b[39mfn(this\u001b[38;5;241m.\u001b[39m_geom)\n",
      "\u001b[0;31mKeyboardInterrupt\u001b[0m: "
     ]
    },
    {
     "data": {
      "image/png": "[encoded data removed]",
      "text/plain": [
       "<Figure size 800x800 with 1 Axes>"
      ]
     },
     "metadata": {},
     "output_type": "display_data"
    }
   ],
   "source": [
    "ox.plot_graph(auck_network)"
   ]
  },
  {
   "cell_type": "markdown",
   "id": "df758140",
   "metadata": {},
   "source": [
    "# Adding other data\n",
    "### Import the grid of urban Auckland including census variables\n",
    "The IDW was done in R. Code in the file data-prep.R"
   ]
  },
  {
   "cell_type": "code",
   "execution_count": null,
   "id": "9566fd4a",
   "metadata": {},
   "outputs": [],
   "source": [
    "grid = gpd.read_file(\"data/geographic/grids/grid_50000_auckland_census_dist.gpkg\")\n",
    "grid.head()"
   ]
  },
  {
   "cell_type": "markdown",
   "id": "df3adfe8",
   "metadata": {},
   "source": [
    "### Import the train stations in Auckland\n",
    "The IDW was done in R. Code in the file data-prep.R"
   ]
  },
  {
   "cell_type": "code",
   "execution_count": null,
   "id": "1fa3359b",
   "metadata": {},
   "outputs": [],
   "source": [
    "stations = gpd.read_file(\"data/transport/public_transport/trains_auckland_with_distances_on_network.gpkg\")\n",
    "stations.head()"
   ]
  },
  {
   "cell_type": "markdown",
   "id": "4958815a",
   "metadata": {},
   "source": [
    "## \n"
   ]
  },
  {
   "cell_type": "code",
   "execution_count": null,
   "id": "524cfaac",
   "metadata": {},
   "outputs": [],
   "source": []
  },
  {
   "cell_type": "code",
   "execution_count": 14,
   "id": "cd175971",
   "metadata": {
    "scrolled": true
   },
   "outputs": [
    {
     "ename": "AttributeError",
     "evalue": "module 'osmnx' has no attribute 'get_nearest_node'",
     "output_type": "error",
     "traceback": [
      "\u001b[0;31m---------------------------------------------------------------------------\u001b[0m",
      "\u001b[0;31mAttributeError\u001b[0m                            Traceback (most recent call last)",
      "Cell \u001b[0;32mIn [14], line 4\u001b[0m\n\u001b[1;32m      1\u001b[0m orig_xy \u001b[38;5;241m=\u001b[39m Point(\u001b[38;5;241m174.762506\u001b[39m, \u001b[38;5;241m-\u001b[39m\u001b[38;5;241m36.852165\u001b[39m)\n\u001b[1;32m      2\u001b[0m target_xy \u001b[38;5;241m=\u001b[39m Point(\u001b[38;5;241m174.762336\u001b[39m, \u001b[38;5;241m-\u001b[39m\u001b[38;5;241m36.852165\u001b[39m)\n\u001b[0;32m----> 4\u001b[0m orig_node \u001b[38;5;241m=\u001b[39m \u001b[43mox\u001b[49m\u001b[38;5;241;43m.\u001b[39;49m\u001b[43mget_nearest_node\u001b[49m(auck_network, orig_xy, method\u001b[38;5;241m=\u001b[39m\u001b[38;5;124m'\u001b[39m\u001b[38;5;124meuclidean\u001b[39m\u001b[38;5;124m'\u001b[39m)\n\u001b[1;32m      5\u001b[0m target_node \u001b[38;5;241m=\u001b[39m ox\u001b[38;5;241m.\u001b[39mget_nearest_node(auck_network, target_xy, method\u001b[38;5;241m=\u001b[39m\u001b[38;5;124m'\u001b[39m\u001b[38;5;124meuclidean\u001b[39m\u001b[38;5;124m'\u001b[39m)\n\u001b[1;32m      7\u001b[0m o_closest \u001b[38;5;241m=\u001b[39m nodes_proj\u001b[38;5;241m.\u001b[39mloc[orig_node]\n",
      "\u001b[0;31mAttributeError\u001b[0m: module 'osmnx' has no attribute 'get_nearest_node'"
     ]
    }
   ],
   "source": [
    "orig_node, dist_origin_to_edge = ox.get_nearest_node(auck_network, X=, Y=, return_dist=True)\n",
    "target_node, dist_target_to_edge = ox.get_nearest_node(auck_network, X=, Y=, return_dist=True)\n",
    "\n",
    "o_closest = nodes_proj.loc[orig_node]\n",
    "t_closest = nodes_proj.loc[target_node]\n",
    "\n",
    "orig_node\n",
    "target_node"
   ]
  },
  {
   "cell_type": "code",
   "execution_count": null,
   "id": "b4df6950",
   "metadata": {},
   "outputs": [],
   "source": [
    "route = nx.shortest_path(G=G, source=orig_node, target=target_node, weight='length')\n",
    "print(route)"
   ]
  }
 ],
 "metadata": {
  "kernelspec": {
   "display_name": "Python 3 (ipykernel)",
   "language": "python",
   "name": "python3"
  },
  "language_info": {
   "codemirror_mode": {
    "name": "ipython",
    "version": 3
   },
   "file_extension": ".py",
   "mimetype": "text/x-python",
   "name": "python",
   "nbconvert_exporter": "python",
   "pygments_lexer": "ipython3",
   "version": "3.10.6"
  }
 },
 "nbformat": 4,
 "nbformat_minor": 5
}

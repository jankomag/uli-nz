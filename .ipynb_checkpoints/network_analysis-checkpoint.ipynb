{
 "cells": [
  {
   "cell_type": "markdown",
   "id": "4c123487",
   "metadata": {},
   "source": [
    "# Network Analysis on Auckland road data\n",
    "### Import packages"
   ]
  },
  {
   "cell_type": "code",
   "execution_count": 1,
   "id": "b5ab2fe2-3543-4157-9801-e43140aec161",
   "metadata": {},
   "outputs": [],
   "source": [
    "import numpy as np\n",
    "import pandas as pd\n",
    "import osmnx as ox\n",
    "import geopandas as gpd\n",
    "from shapely.geometry import MultiPolygon, Point\n",
    "from shapely.ops import transform\n",
    "import pyproj\n",
    "import networkx as nx\n",
    "import math\n",
    "import matplotlib.pyplot as plt\n",
    "from pyproj import CRS\n",
    "import itertools\n",
    "import networkx as nx"
   ]
  },
  {
   "cell_type": "markdown",
   "id": "eec11a78",
   "metadata": {},
   "source": [
    "### Importing the road network"
   ]
  },
  {
   "cell_type": "code",
   "execution_count": null,
   "id": "8ab83c63",
   "metadata": {},
   "outputs": [],
   "source": [
    "auck_network = ox.io.load_graphml(\"data/network_analysis/auckland_network_walk_unconsolidated.graphml\")"
   ]
  },
  {
   "cell_type": "code",
   "execution_count": null,
   "id": "55ccf9cf",
   "metadata": {
    "scrolled": true
   },
   "outputs": [],
   "source": [
    "ox.plot_graph(auck_network)"
   ]
  },
  {
   "cell_type": "markdown",
   "id": "df758140",
   "metadata": {},
   "source": [
    "# Adding other data\n",
    "### Import the grid of urban Auckland including census variables\n",
    "The IDW was done in R. Code in the file data-prep.R"
   ]
  },
  {
   "cell_type": "code",
   "execution_count": null,
   "id": "9566fd4a",
   "metadata": {},
   "outputs": [],
   "source": [
    "grid = gpd.read_file(\"data/geographic/grids/grid_50000_auckland_allDist.gpkg\")\n",
    "grid['lon'] = grid['geometry'].x\n",
    "grid['lat'] = grid['geometry'].y\n",
    "grid.head()"
   ]
  },
  {
   "cell_type": "markdown",
   "id": "df3adfe8",
   "metadata": {},
   "source": [
    "### Import the train stations in Auckland\n",
    "The IDW was done in R. Code in the file data-prep.R"
   ]
  },
  {
   "cell_type": "code",
   "execution_count": null,
   "id": "1fa3359b",
   "metadata": {},
   "outputs": [],
   "source": [
    "stations = gpd.read_file(\"data/transport/public_transport/trains_auckland_with_distances_on_network.gpkg\")\n",
    "stations['lon'] = stations['geometry'].x\n",
    "stations['lat'] = stations['geometry'].y\n",
    "stations.plot()"
   ]
  },
  {
   "cell_type": "markdown",
   "id": "4958815a",
   "metadata": {},
   "source": [
    "### Calculate distances for each point\n"
   ]
  },
  {
   "cell_type": "code",
   "execution_count": null,
   "id": "9eee4fa6",
   "metadata": {},
   "outputs": [],
   "source": []
  },
  {
   "cell_type": "code",
   "execution_count": 14,
   "id": "cd175971",
   "metadata": {
    "scrolled": true
   },
   "outputs": [
    {
     "ename": "AttributeError",
     "evalue": "module 'osmnx' has no attribute 'get_nearest_node'",
     "output_type": "error",
     "traceback": [
      "\u001b[0;31m---------------------------------------------------------------------------\u001b[0m",
      "\u001b[0;31mAttributeError\u001b[0m                            Traceback (most recent call last)",
      "Cell \u001b[0;32mIn [14], line 4\u001b[0m\n\u001b[1;32m      1\u001b[0m orig_xy \u001b[38;5;241m=\u001b[39m Point(\u001b[38;5;241m174.762506\u001b[39m, \u001b[38;5;241m-\u001b[39m\u001b[38;5;241m36.852165\u001b[39m)\n\u001b[1;32m      2\u001b[0m target_xy \u001b[38;5;241m=\u001b[39m Point(\u001b[38;5;241m174.762336\u001b[39m, \u001b[38;5;241m-\u001b[39m\u001b[38;5;241m36.852165\u001b[39m)\n\u001b[0;32m----> 4\u001b[0m orig_node \u001b[38;5;241m=\u001b[39m \u001b[43mox\u001b[49m\u001b[38;5;241;43m.\u001b[39;49m\u001b[43mget_nearest_node\u001b[49m(auck_network, orig_xy, method\u001b[38;5;241m=\u001b[39m\u001b[38;5;124m'\u001b[39m\u001b[38;5;124meuclidean\u001b[39m\u001b[38;5;124m'\u001b[39m)\n\u001b[1;32m      5\u001b[0m target_node \u001b[38;5;241m=\u001b[39m ox\u001b[38;5;241m.\u001b[39mget_nearest_node(auck_network, target_xy, method\u001b[38;5;241m=\u001b[39m\u001b[38;5;124m'\u001b[39m\u001b[38;5;124meuclidean\u001b[39m\u001b[38;5;124m'\u001b[39m)\n\u001b[1;32m      7\u001b[0m o_closest \u001b[38;5;241m=\u001b[39m nodes_proj\u001b[38;5;241m.\u001b[39mloc[orig_node]\n",
      "\u001b[0;31mAttributeError\u001b[0m: module 'osmnx' has no attribute 'get_nearest_node'"
     ]
    }
   ],
   "source": [
    "for pidx, point in enumerate(grid.itertuples()):\n",
    "    orig_node, dist_origin_to_edge = ox.distance.nearest_nodes(Gsmol, point.geometry.x, point.geometry.y, return_dist=True) \n",
    "    o_closest = nodes_proj.loc[orig_node]\n",
    "    \n",
    "    for sidx, station in enumerate(stations.itertuples()):\n",
    "        target_node, dist_target_to_edge = ox.distance.nearest_nodes(Gsmol, station.lon, station.lat, return_dist=True)\n",
    "        t_closest = nodes_proj.loc[target_node]\n",
    "        #od_nodes = gpd.GeoDataFrame([o_closest, t_closest], geometry='geometry', crs=nodes_proj.crs)\n",
    "        shortest_path_length = nx.shortest_path_length(Gsmol, source=orig_node, target=target_node, weight='length')\n",
    "        shortest_path_full_length = shortest_path_length + dist_origin_to_edge + dist_target_to_edge\n",
    "        \n",
    "        dict_station_dist = {}\n",
    "        keys=[]\n",
    "        values=[]\n",
    "        keys.append(station.STOPNAME)\n",
    "        values.append(shortest_path_full_length)\n",
    "\n",
    "        for key, value in zip(keys, values):\n",
    "            dict_station_dist[key] = value\n",
    "\n",
    "        closest_station = min(dict_station_dist.keys())\n",
    "        minimum_distance = min(dict_station_dist.values())\n",
    "    print(\"Doing point\", pidx, \". Distance to nearest station: \", closest_station, \" is \", minimum_distance)\n",
    "\n",
    "    #grid2.loc[pidx].shortest_distance_to_station = minimum_dist    "
   ]
  },
  {
   "cell_type": "code",
   "execution_count": null,
   "id": "b4df6950",
   "metadata": {},
   "outputs": [],
   "source": [
    "route = nx.shortest_path(G=G, source=orig_node, target=target_node, weight='length')\n",
    "print(route)"
   ]
  }
 ],
 "metadata": {
  "kernelspec": {
   "display_name": "Python 3 (ipykernel)",
   "language": "python",
   "name": "python3"
  },
  "language_info": {
   "codemirror_mode": {
    "name": "ipython",
    "version": 3
   },
   "file_extension": ".py",
   "mimetype": "text/x-python",
   "name": "python",
   "nbconvert_exporter": "python",
   "pygments_lexer": "ipython3",
   "version": "3.10.6"
  }
 },
 "nbformat": 4,
 "nbformat_minor": 5
}

{
 "cells": [
  {
   "cell_type": "markdown",
   "id": "4c123487",
   "metadata": {},
   "source": [
    "# Network Analysis on Auckland road data\n",
    "### Import packages"
   ]
  },
  {
   "cell_type": "code",
   "execution_count": 8,
   "id": "b5ab2fe2-3543-4157-9801-e43140aec161",
   "metadata": {},
   "outputs": [],
   "source": [
    "import numpy as np\n",
    "import pandas as pd\n",
    "import osmnx as ox\n",
    "import geopandas as gpd\n",
    "from shapely.geometry import MultiPolygon, Point\n",
    "from shapely.ops import transform\n",
    "import pyproj\n",
    "import networkx as nx\n",
    "import math\n",
    "import matplotlib.pyplot as plt\n",
    "from pyproj import CRS\n",
    "import itertools\n",
    "import networkx as nx"
   ]
  },
  {
   "cell_type": "markdown",
   "id": "eec11a78",
   "metadata": {},
   "source": [
    "### Importing the road network"
   ]
  },
  {
   "cell_type": "code",
   "execution_count": null,
   "id": "8ab83c63",
   "metadata": {},
   "outputs": [],
   "source": [
    "auck_network = ox.io.load_graphml(\"data/network_analysis/auckland_network_walk_consolidated.graphml\")"
   ]
  },
  {
   "cell_type": "code",
   "execution_count": null,
   "id": "55ccf9cf",
   "metadata": {
    "scrolled": true
   },
   "outputs": [],
   "source": [
    "ox.plot_graph(auck_network)"
   ]
  },
  {
   "cell_type": "markdown",
   "id": "df758140",
   "metadata": {},
   "source": [
    "# Adding other data\n",
    "### Import the grid of urban Auckland including census variables\n",
    "The IDW was done in R. Code in the file data-prep.R"
   ]
  },
  {
   "cell_type": "code",
   "execution_count": null,
   "id": "9566fd4a",
   "metadata": {},
   "outputs": [],
   "source": [
    "grid = gpd.read_file(\"data/geographic/grids/grid_50000_auckland_census_dist.gpkg\")\n",
    "grid.head()"
   ]
  },
  {
   "cell_type": "markdown",
   "id": "df3adfe8",
   "metadata": {},
   "source": [
    "### Import the train stations in Auckland\n",
    "The IDW was done in R. Code in the file data-prep.R"
   ]
  },
  {
   "cell_type": "code",
   "execution_count": null,
   "id": "1fa3359b",
   "metadata": {},
   "outputs": [],
   "source": [
    "stations = gpd.read_file(\"data/transport/public_transport/trains_auckland_with_distances_on_network.gpkg\")\n",
    "stations.head()"
   ]
  },
  {
   "cell_type": "markdown",
   "id": "4958815a",
   "metadata": {},
   "source": [
    "## \n"
   ]
  },
  {
   "cell_type": "code",
   "execution_count": 14,
   "id": "cd175971",
   "metadata": {},
   "outputs": [
    {
     "ename": "AttributeError",
     "evalue": "module 'osmnx' has no attribute 'get_nearest_node'",
     "output_type": "error",
     "traceback": [
      "\u001b[0;31m---------------------------------------------------------------------------\u001b[0m",
      "\u001b[0;31mAttributeError\u001b[0m                            Traceback (most recent call last)",
      "Cell \u001b[0;32mIn [14], line 4\u001b[0m\n\u001b[1;32m      1\u001b[0m orig_xy \u001b[38;5;241m=\u001b[39m Point(\u001b[38;5;241m174.762506\u001b[39m, \u001b[38;5;241m-\u001b[39m\u001b[38;5;241m36.852165\u001b[39m)\n\u001b[1;32m      2\u001b[0m target_xy \u001b[38;5;241m=\u001b[39m Point(\u001b[38;5;241m174.762336\u001b[39m, \u001b[38;5;241m-\u001b[39m\u001b[38;5;241m36.852165\u001b[39m)\n\u001b[0;32m----> 4\u001b[0m orig_node \u001b[38;5;241m=\u001b[39m \u001b[43mox\u001b[49m\u001b[38;5;241;43m.\u001b[39;49m\u001b[43mget_nearest_node\u001b[49m(auck_network, orig_xy, method\u001b[38;5;241m=\u001b[39m\u001b[38;5;124m'\u001b[39m\u001b[38;5;124meuclidean\u001b[39m\u001b[38;5;124m'\u001b[39m)\n\u001b[1;32m      5\u001b[0m target_node \u001b[38;5;241m=\u001b[39m ox\u001b[38;5;241m.\u001b[39mget_nearest_node(auck_network, target_xy, method\u001b[38;5;241m=\u001b[39m\u001b[38;5;124m'\u001b[39m\u001b[38;5;124meuclidean\u001b[39m\u001b[38;5;124m'\u001b[39m)\n\u001b[1;32m      7\u001b[0m o_closest \u001b[38;5;241m=\u001b[39m nodes_proj\u001b[38;5;241m.\u001b[39mloc[orig_node]\n",
      "\u001b[0;31mAttributeError\u001b[0m: module 'osmnx' has no attribute 'get_nearest_node'"
     ]
    }
   ],
   "source": [
    "orig_xy = Point(174.762506, -36.852165)\n",
    "target_xy = Point(174.762336, -36.852165)\n",
    "\n",
    "orig_node = ox.get_nearest_node(auck_network, X=, Y=)\n",
    "target_node = ox.get_nearest_node(auck_network, X=, Y=)\n",
    "\n",
    "o_closest = nodes_proj.loc[orig_node]\n",
    "t_closest = nodes_proj.loc[target_node]\n",
    "\n",
    "orig_node\n",
    "target_node"
   ]
  },
  {
   "cell_type": "code",
   "execution_count": null,
   "id": "b4df6950",
   "metadata": {},
   "outputs": [],
   "source": [
    "route = nx.shortest_path(G=G, source=orig_node, target=target_node, weight='length')\n",
    "print(route)"
   ]
  }
 ],
 "metadata": {
  "kernelspec": {
   "display_name": "Python 3 (ipykernel)",
   "language": "python",
   "name": "python3"
  },
  "language_info": {
   "codemirror_mode": {
    "name": "ipython",
    "version": 3
   },
   "file_extension": ".py",
   "mimetype": "text/x-python",
   "name": "python",
   "nbconvert_exporter": "python",
   "pygments_lexer": "ipython3",
   "version": "3.10.6"
  }
 },
 "nbformat": 4,
 "nbformat_minor": 5
}

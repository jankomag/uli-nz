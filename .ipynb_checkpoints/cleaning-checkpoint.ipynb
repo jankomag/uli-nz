{
 "cells": [
  {
   "cell_type": "code",
   "execution_count": 4,
   "id": "458d0b8c",
   "metadata": {},
   "outputs": [
    {
     "ename": "ModuleNotFoundError",
     "evalue": "No module named 'osmnx'",
     "output_type": "error",
     "traceback": [
      "\u001b[0;31m---------------------------------------------------------------------------\u001b[0m",
      "\u001b[0;31mModuleNotFoundError\u001b[0m                       Traceback (most recent call last)",
      "\u001b[0;32m/var/folders/v5/mcnrdbxj26l_3pq9rm9nds580000gn/T/ipykernel_58416/2678310475.py\u001b[0m in \u001b[0;36m<module>\u001b[0;34m\u001b[0m\n\u001b[1;32m      1\u001b[0m \u001b[0;32mimport\u001b[0m \u001b[0mnumpy\u001b[0m \u001b[0;32mas\u001b[0m \u001b[0mnp\u001b[0m\u001b[0;34m\u001b[0m\u001b[0;34m\u001b[0m\u001b[0m\n\u001b[1;32m      2\u001b[0m \u001b[0;32mimport\u001b[0m \u001b[0mpandas\u001b[0m \u001b[0;32mas\u001b[0m \u001b[0mpd\u001b[0m\u001b[0;34m\u001b[0m\u001b[0;34m\u001b[0m\u001b[0m\n\u001b[0;32m----> 3\u001b[0;31m \u001b[0;32mimport\u001b[0m \u001b[0mosmnx\u001b[0m \u001b[0;32mas\u001b[0m \u001b[0mox\u001b[0m\u001b[0;34m\u001b[0m\u001b[0;34m\u001b[0m\u001b[0m\n\u001b[0m",
      "\u001b[0;31mModuleNotFoundError\u001b[0m: No module named 'osmnx'"
     ]
    }
   ],
   "source": [
    "import numpy as np\n",
    "import pandas as pd\n",
    "import osmnx as ox"
   ]
  },
  {
   "cell_type": "code",
   "execution_count": null,
   "id": "6a721bd2",
   "metadata": {},
   "outputs": [],
   "source": [
    "df = pd.read_csv(\"data/transport/gtfs_auckland/stop_times.txt\",sep=\",\", encoding=\"gbk\")\n",
    "df.drop(columns=df.columns[-4:], axis=1,  inplace=True)\n",
    "#df = pd.to_datetime(df['departure_time'], format=\"%H:%M:%S\")"
   ]
  },
  {
   "cell_type": "code",
   "execution_count": 3,
   "id": "44d346cd",
   "metadata": {},
   "outputs": [
    {
     "ename": "NameError",
     "evalue": "name 'df' is not defined",
     "output_type": "error",
     "traceback": [
      "\u001b[0;31m---------------------------------------------------------------------------\u001b[0m",
      "\u001b[0;31mNameError\u001b[0m                                 Traceback (most recent call last)",
      "\u001b[0;32m/var/folders/v5/mcnrdbxj26l_3pq9rm9nds580000gn/T/ipykernel_58416/2522960898.py\u001b[0m in \u001b[0;36m<module>\u001b[0;34m\u001b[0m\n\u001b[0;32m----> 1\u001b[0;31m \u001b[0mdf\u001b[0m\u001b[0;34m.\u001b[0m\u001b[0mhead\u001b[0m\u001b[0;34m(\u001b[0m\u001b[0;36m50\u001b[0m\u001b[0;34m)\u001b[0m\u001b[0;34m\u001b[0m\u001b[0;34m\u001b[0m\u001b[0m\n\u001b[0m",
      "\u001b[0;31mNameError\u001b[0m: name 'df' is not defined"
     ]
    }
   ],
   "source": [
    "df.head(10)"
   ]
  },
  {
   "cell_type": "code",
   "execution_count": 15,
   "id": "b9081160",
   "metadata": {
    "scrolled": true
   },
   "outputs": [
    {
     "data": {
      "text/html": [
       "<div>\n",
       "<style scoped>\n",
       "    .dataframe tbody tr th:only-of-type {\n",
       "        vertical-align: middle;\n",
       "    }\n",
       "\n",
       "    .dataframe tbody tr th {\n",
       "        vertical-align: top;\n",
       "    }\n",
       "\n",
       "    .dataframe thead th {\n",
       "        text-align: right;\n",
       "    }\n",
       "</style>\n",
       "<table border=\"1\" class=\"dataframe\">\n",
       "  <thead>\n",
       "    <tr style=\"text-align: right;\">\n",
       "      <th></th>\n",
       "      <th>trip_id</th>\n",
       "      <th>arrival_time</th>\n",
       "      <th>departure_time</th>\n",
       "      <th>stop_id</th>\n",
       "      <th>stop_sequence</th>\n",
       "    </tr>\n",
       "  </thead>\n",
       "  <tbody>\n",
       "    <tr>\n",
       "      <th>898295</th>\n",
       "      <td>18142252328-20221005143029_v103.11</td>\n",
       "      <td>15:23:49</td>\n",
       "      <td>15:23:49</td>\n",
       "      <td>9976-20221005143029_v103.11</td>\n",
       "      <td>12</td>\n",
       "    </tr>\n",
       "    <tr>\n",
       "      <th>533694</th>\n",
       "      <td>18146147061-20221005143029_v103.11</td>\n",
       "      <td>08:27:45</td>\n",
       "      <td>08:27:45</td>\n",
       "      <td>9976-20221005143029_v103.11</td>\n",
       "      <td>12</td>\n",
       "    </tr>\n",
       "    <tr>\n",
       "      <th>370497</th>\n",
       "      <td>18142252328-20220929142455_v103.7</td>\n",
       "      <td>15:23:49</td>\n",
       "      <td>15:23:49</td>\n",
       "      <td>9976-20220929142455_v103.7</td>\n",
       "      <td>12</td>\n",
       "    </tr>\n",
       "    <tr>\n",
       "      <th>609413</th>\n",
       "      <td>18146147061-20220929142455_v103.7</td>\n",
       "      <td>08:27:45</td>\n",
       "      <td>08:27:45</td>\n",
       "      <td>9976-20220929142455_v103.7</td>\n",
       "      <td>12</td>\n",
       "    </tr>\n",
       "    <tr>\n",
       "      <th>898296</th>\n",
       "      <td>18142252328-20221005143029_v103.11</td>\n",
       "      <td>15:25:52</td>\n",
       "      <td>15:25:52</td>\n",
       "      <td>9975-20221005143029_v103.11</td>\n",
       "      <td>13</td>\n",
       "    </tr>\n",
       "  </tbody>\n",
       "</table>\n",
       "</div>"
      ],
      "text/plain": [
       "                                   trip_id arrival_time departure_time  \\\n",
       "898295  18142252328-20221005143029_v103.11     15:23:49       15:23:49   \n",
       "533694  18146147061-20221005143029_v103.11     08:27:45       08:27:45   \n",
       "370497   18142252328-20220929142455_v103.7     15:23:49       15:23:49   \n",
       "609413   18146147061-20220929142455_v103.7     08:27:45       08:27:45   \n",
       "898296  18142252328-20221005143029_v103.11     15:25:52       15:25:52   \n",
       "\n",
       "                            stop_id  stop_sequence  \n",
       "898295  9976-20221005143029_v103.11             12  \n",
       "533694  9976-20221005143029_v103.11             12  \n",
       "370497   9976-20220929142455_v103.7             12  \n",
       "609413   9976-20220929142455_v103.7             12  \n",
       "898296  9975-20221005143029_v103.11             13  "
      ]
     },
     "execution_count": 15,
     "metadata": {},
     "output_type": "execute_result"
    }
   ],
   "source": [
    "#df2 = df.groupby(['stop_id'])['stop_id'].count().sort_values(ascending=False) \n",
    "df2 = df.sort_values(ascending=False, by=['stop_id', 'departure_time'])\n",
    "pd.DataFrame(df2)\n",
    "df2.head()"
   ]
  },
  {
   "cell_type": "code",
   "execution_count": null,
   "id": "ae29af10",
   "metadata": {},
   "outputs": [],
   "source": []
  }
 ],
 "metadata": {
  "kernelspec": {
   "display_name": "Python 3 (ipykernel)",
   "language": "python",
   "name": "python3"
  },
  "language_info": {
   "codemirror_mode": {
    "name": "ipython",
    "version": 3
   },
   "file_extension": ".py",
   "mimetype": "text/x-python",
   "name": "python",
   "nbconvert_exporter": "python",
   "pygments_lexer": "ipython3",
   "version": "3.7.12"
  }
 },
 "nbformat": 4,
 "nbformat_minor": 5
}

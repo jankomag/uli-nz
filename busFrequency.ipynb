{
 "cells": [
  {
   "cell_type": "code",
   "execution_count": 31,
   "id": "458d0b8c",
   "metadata": {},
   "outputs": [],
   "source": [
    "import pandas as pd"
   ]
  },
  {
   "cell_type": "code",
   "execution_count": 29,
   "id": "6a721bd2",
   "metadata": {},
   "outputs": [],
   "source": [
    "df = pd.read_csv(\"data/transport/GTFS/gtfs_auckland/stop_times.txt\",sep=\",\", encoding=\"gbk\")\n",
    "df.drop(columns=df.columns[-4:], axis=1,  inplace=True)"
   ]
  },
  {
   "cell_type": "code",
   "execution_count": 30,
   "id": "b9081160",
   "metadata": {
    "scrolled": true
   },
   "outputs": [],
   "source": [
    "# sum bus departures from bus stops per day\n",
    "df2 = df.groupby(by='stop_id').count().sort_values(by='arrival_time',ascending=False)\n",
    "\n",
    "df2['busDepsPerHour'] = df2['departure_time']/24 # get average buses per hour\n",
    "df2 = df2.loc[df2['busDepsPerHour'] >= 6] #select bus stops with more than 6 buses per hour, approximation of buses every 10 minutes\n",
    "\n",
    "df2.to_csv(\"bus_frequency.csv\") #save, joining with spatial bus stops was done in QGIS"
   ]
  }
 ],
 "metadata": {
  "kernelspec": {
   "display_name": "Python 3 (ipykernel)",
   "language": "python",
   "name": "python3"
  },
  "language_info": {
   "codemirror_mode": {
    "name": "ipython",
    "version": 3
   },
   "file_extension": ".py",
   "mimetype": "text/x-python",
   "name": "python",
   "nbconvert_exporter": "python",
   "pygments_lexer": "ipython3",
   "version": "3.10.6"
  }
 },
 "nbformat": 4,
 "nbformat_minor": 5
}

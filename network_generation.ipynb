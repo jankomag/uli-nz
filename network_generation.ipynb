{
 "cells": [
  {
   "cell_type": "markdown",
   "id": "4c123487",
   "metadata": {},
   "source": [
    "# Network Analysis on Auckland road data\n",
    "### Import packages"
   ]
  },
  {
   "cell_type": "code",
   "execution_count": 1,
   "id": "b5ab2fe2-3543-4157-9801-e43140aec161",
   "metadata": {},
   "outputs": [],
   "source": [
    "import numpy as np\n",
    "import pandas as pd\n",
    "import osmnx as ox\n",
    "import geopandas as gpd\n",
    "from shapely.geometry import MultiPolygon\n",
    "from shapely.ops import transform\n",
    "import pyproj\n",
    "import networkx as nx\n",
    "import math\n",
    "import matplotlib.pyplot as plt\n",
    "from pyproj import CRS\n",
    "import itertools"
   ]
  },
  {
   "cell_type": "markdown",
   "id": "3986e49e",
   "metadata": {},
   "source": [
    "### Importing territorial boundry of Auckland region"
   ]
  },
  {
   "cell_type": "code",
   "execution_count": 2,
   "id": "5a4d9f21-9383-4318-83a1-321a870db41d",
   "metadata": {},
   "outputs": [],
   "source": [
    "auckland_path = \"data/geographic/territorial/auckland_polygon_diy.gpkg\""
   ]
  },
  {
   "cell_type": "code",
   "execution_count": 3,
   "id": "7beab3f9-ed59-4d07-a1ac-7d398f7b4e89",
   "metadata": {},
   "outputs": [],
   "source": [
    "auckland = gpd.read_file(auckland_path)\n",
    "auckland = auckland.to_crs(crs=4326)\n",
    "polygon = auckland.iloc[0]['geometry']"
   ]
  },
  {
   "cell_type": "markdown",
   "id": "eec11a78",
   "metadata": {},
   "source": [
    "### Generating the road network"
   ]
  },
  {
   "cell_type": "code",
   "execution_count": 14,
   "id": "8ab83c63",
   "metadata": {},
   "outputs": [],
   "source": [
    "G = ox.graph.graph_from_polygon(polygon, network_type=\"walk\", simplify = False)"
   ]
  },
  {
   "cell_type": "code",
   "execution_count": null,
   "id": "def7528f",
   "metadata": {},
   "outputs": [],
   "source": [
    "G = ox.io.load_graphml(\"data/network_analysis/auckland_network_walk_unconsolidated.graphml\")"
   ]
  },
  {
   "cell_type": "markdown",
   "id": "297fa520",
   "metadata": {},
   "source": [
    "Save for future use\n"
   ]
  },
  {
   "cell_type": "code",
   "execution_count": 15,
   "id": "edcdcb7e",
   "metadata": {},
   "outputs": [],
   "source": [
    "ox.io.save_graphml(G, filepath=\"data/network_analysis/auckland_network_walk_unconsolidated.graphml\", gephi=False, encoding='utf-8')"
   ]
  },
  {
   "cell_type": "code",
   "execution_count": 16,
   "id": "899133d2",
   "metadata": {},
   "outputs": [],
   "source": [
    "ox.io.save_graph_geopackage(G, \"data/network_analysis/auckland_network_walk_unconsolidated_gpkg.gpkg\")"
   ]
  },
  {
   "cell_type": "markdown",
   "id": "d5330a2f",
   "metadata": {},
   "source": [
    "### Consolidate the newtork to solve the spatial/topological issue"
   ]
  },
  {
   "cell_type": "code",
   "execution_count": null,
   "id": "9d356821-9646-4079-bc5d-3a506f9eda06",
   "metadata": {},
   "outputs": [],
   "source": [
    "G_consoli = ox.simplification.consolidate_intersections(G, rebuild_graph=True)"
   ]
  },
  {
   "cell_type": "markdown",
   "id": "02f02b44",
   "metadata": {},
   "source": [
    "### Save the newtork for later analysis, cos it took long to download it"
   ]
  },
  {
   "cell_type": "code",
   "execution_count": null,
   "id": "84235bbe-caab-40c4-a489-784f2a22479f",
   "metadata": {},
   "outputs": [],
   "source": [
    "ox.io.save_graphml(G_consoli, filepath=\"data/network_analysis/auckland_network_walk_consolidatedTRUE.graphml\", gephi=False, encoding='utf-8')"
   ]
  },
  {
   "cell_type": "code",
   "execution_count": null,
   "id": "989fbf85",
   "metadata": {},
   "outputs": [],
   "source": [
    "ox.io.save_graph_geopackage(G, \"data/network_analysis/auckland_network_walk_consolidated_gpkg.gpkg\")"
   ]
  },
  {
   "cell_type": "code",
   "execution_count": 3,
   "id": "18cf4b92",
   "metadata": {},
   "outputs": [],
   "source": [
    "# get the nodes and the edges into geopandas\n",
    "nodes, edges = ox.graph_to_gdfs(G, nodes=True, edges=True)"
   ]
  },
  {
   "cell_type": "markdown",
   "id": "df758140",
   "metadata": {},
   "source": [
    "# Adding other data\n",
    "### Import the grid of urban Auckland including census variables\n",
    "The IDW was done in R. Code in the file data-prep.R"
   ]
  },
  {
   "cell_type": "code",
   "execution_count": 65,
   "id": "c93871e5-d825-4764-b597-5dab8d1436d7",
   "metadata": {},
   "outputs": [
    {
     "data": {
      "text/plain": [
       "<AxesSubplot: >"
      ]
     },
     "execution_count": 65,
     "metadata": {},
     "output_type": "execute_result"
    },
    {
     "data": {
      "image/png": "[encoded data removed]",
      "text/plain": [
       "<Figure size 640x480 with 1 Axes>"
      ]
     },
     "metadata": {},
     "output_type": "display_data"
    }
   ],
   "source": [
    "grid = gpd.read_file(\"data/geographic/grids/grid_50000_auckland_census.gpkg\")\n",
    "grid['lon'] = grid['geometry'].x\n",
    "grid['lat'] = grid['geometry'].y\n",
    "grid.plot()"
   ]
  },
  {
   "cell_type": "markdown",
   "id": "b0117105",
   "metadata": {},
   "source": [
    "### Snap the grid of points to the nearest road egde\n",
    "This is so that I can later calculate network distances between each point to the supply points"
   ]
  },
  {
   "cell_type": "code",
   "execution_count": 124,
   "id": "ded902df",
   "metadata": {},
   "outputs": [
    {
     "data": {
      "text/html": [
       "<div>\n",
       "<style scoped>\n",
       "    .dataframe tbody tr th:only-of-type {\n",
       "        vertical-align: middle;\n",
       "    }\n",
       "\n",
       "    .dataframe tbody tr th {\n",
       "        vertical-align: top;\n",
       "    }\n",
       "\n",
       "    .dataframe thead th {\n",
       "        text-align: right;\n",
       "    }\n",
       "</style>\n",
       "<table border=\"1\" class=\"dataframe\">\n",
       "  <thead>\n",
       "    <tr style=\"text-align: right;\">\n",
       "      <th></th>\n",
       "      <th>income</th>\n",
       "      <th>no_households</th>\n",
       "      <th>maori_pr</th>\n",
       "      <th>dampness</th>\n",
       "      <th>geometry</th>\n",
       "      <th>lon</th>\n",
       "      <th>lat</th>\n",
       "      <th>ne_u</th>\n",
       "      <th>ne_v</th>\n",
       "      <th>ne_dist</th>\n",
       "    </tr>\n",
       "  </thead>\n",
       "  <tbody>\n",
       "    <tr>\n",
       "      <th>0</th>\n",
       "      <td>36710.691419</td>\n",
       "      <td>50.796403</td>\n",
       "      <td>0.201352</td>\n",
       "      <td>127.790087</td>\n",
       "      <td>POINT (225532.509 609808.736)</td>\n",
       "      <td>225532.509406</td>\n",
       "      <td>609808.736016</td>\n",
       "      <td>9872095432</td>\n",
       "      <td>7543967816</td>\n",
       "      <td>0</td>\n",
       "    </tr>\n",
       "    <tr>\n",
       "      <th>1</th>\n",
       "      <td>36882.949283</td>\n",
       "      <td>50.309440</td>\n",
       "      <td>0.198384</td>\n",
       "      <td>126.097575</td>\n",
       "      <td>POINT (225657.352 609808.736)</td>\n",
       "      <td>225657.352287</td>\n",
       "      <td>609808.736016</td>\n",
       "      <td>9872095432</td>\n",
       "      <td>7543967816</td>\n",
       "      <td>0</td>\n",
       "    </tr>\n",
       "    <tr>\n",
       "      <th>2</th>\n",
       "      <td>37549.885003</td>\n",
       "      <td>48.335262</td>\n",
       "      <td>0.197472</td>\n",
       "      <td>124.746673</td>\n",
       "      <td>POINT (225782.195 609808.736)</td>\n",
       "      <td>225782.195169</td>\n",
       "      <td>609808.736016</td>\n",
       "      <td>9872095432</td>\n",
       "      <td>7543967816</td>\n",
       "      <td>0</td>\n",
       "    </tr>\n",
       "    <tr>\n",
       "      <th>3</th>\n",
       "      <td>38054.679447</td>\n",
       "      <td>47.356256</td>\n",
       "      <td>0.189796</td>\n",
       "      <td>117.682066</td>\n",
       "      <td>POINT (225907.038 609808.736)</td>\n",
       "      <td>225907.038050</td>\n",
       "      <td>609808.736016</td>\n",
       "      <td>9872095432</td>\n",
       "      <td>7543967816</td>\n",
       "      <td>0</td>\n",
       "    </tr>\n",
       "    <tr>\n",
       "      <th>4</th>\n",
       "      <td>38253.993943</td>\n",
       "      <td>47.114833</td>\n",
       "      <td>0.185706</td>\n",
       "      <td>115.530078</td>\n",
       "      <td>POINT (226031.881 609808.736)</td>\n",
       "      <td>226031.880931</td>\n",
       "      <td>609808.736016</td>\n",
       "      <td>9872095432</td>\n",
       "      <td>7543967816</td>\n",
       "      <td>0</td>\n",
       "    </tr>\n",
       "  </tbody>\n",
       "</table>\n",
       "</div>"
      ],
      "text/plain": [
       "         income  no_households  maori_pr    dampness  \\\n",
       "0  36710.691419      50.796403  0.201352  127.790087   \n",
       "1  36882.949283      50.309440  0.198384  126.097575   \n",
       "2  37549.885003      48.335262  0.197472  124.746673   \n",
       "3  38054.679447      47.356256  0.189796  117.682066   \n",
       "4  38253.993943      47.114833  0.185706  115.530078   \n",
       "\n",
       "                        geometry            lon            lat        ne_u  \\\n",
       "0  POINT (225532.509 609808.736)  225532.509406  609808.736016  9872095432   \n",
       "1  POINT (225657.352 609808.736)  225657.352287  609808.736016  9872095432   \n",
       "2  POINT (225782.195 609808.736)  225782.195169  609808.736016  9872095432   \n",
       "3  POINT (225907.038 609808.736)  225907.038050  609808.736016  9872095432   \n",
       "4  POINT (226031.881 609808.736)  226031.880931  609808.736016  9872095432   \n",
       "\n",
       "         ne_v  ne_dist  \n",
       "0  7543967816        0  \n",
       "1  7543967816        0  \n",
       "2  7543967816        0  \n",
       "3  7543967816        0  \n",
       "4  7543967816        0  "
      ]
     },
     "execution_count": 124,
     "metadata": {},
     "output_type": "execute_result"
    }
   ],
   "source": [
    "grid[[\"ne_u\",\"ne_v\",\"ne_dist\"]] = ox.distance.nearest_edges(G, X=grid[\"lon\"], Y=grid[\"lat\"])\n",
    "grid.head()"
   ]
  },
  {
   "cell_type": "markdown",
   "id": "834c4adc",
   "metadata": {},
   "source": [
    "Save the grid with nearest edge for future use"
   ]
  },
  {
   "cell_type": "code",
   "execution_count": 125,
   "id": "52e28931",
   "metadata": {},
   "outputs": [],
   "source": [
    "grid.to_file(\"data/geographic/grids/grid_50000_auckland_census.gpkg\", layer='grid', driver=\"GPKG\")"
   ]
  },
  {
   "cell_type": "markdown",
   "id": "df3adfe8",
   "metadata": {},
   "source": [
    "### Import the train stations in Auckland\n",
    "The IDW was done in R. Code in the file data-prep.R"
   ]
  },
  {
   "cell_type": "code",
   "execution_count": 104,
   "id": "86f3cbe4",
   "metadata": {
    "scrolled": true
   },
   "outputs": [
    {
     "data": {
      "text/plain": [
       "<AxesSubplot: >"
      ]
     },
     "execution_count": 104,
     "metadata": {},
     "output_type": "execute_result"
    },
    {
     "data": {
      "image/png": "[encoded data removed]",
      "text/plain": [
       "<Figure size 640x480 with 1 Axes>"
      ]
     },
     "metadata": {},
     "output_type": "display_data"
    }
   ],
   "source": [
    "stations = gpd.read_file(\"data/transport/public_transport/trains_auckland.gpkg\")\n",
    "stations['lon'] = stations['geometry'].x\n",
    "stations['lat'] = stations['geometry'].y\n",
    "stations.plot()"
   ]
  },
  {
   "cell_type": "markdown",
   "id": "a92061e0",
   "metadata": {},
   "source": [
    "### Snap the train station points to the nearest road egde\n",
    "This is for later calculation of network distances between each station to the demand points - grid"
   ]
  },
  {
   "cell_type": "code",
   "execution_count": 105,
   "id": "3c1f53bf",
   "metadata": {},
   "outputs": [
    {
     "name": "stderr",
     "output_type": "stream",
     "text": [
      "/opt/miniconda3/envs/ox/lib/python3.10/site-packages/osmnx/distance.py:304: UserWarning: Geometry is in a geographic CRS. Results from 'distance' are likely incorrect. Use 'GeoSeries.to_crs()' to re-project geometries to a projected CRS before this operation.\n",
      "\n",
      "  dists = geoms.iloc[list(rtree.nearest(xy, num_results=10))].distance(Point(xy))\n"
     ]
    },
    {
     "data": {
      "text/html": [
       "<div>\n",
       "<style scoped>\n",
       "    .dataframe tbody tr th:only-of-type {\n",
       "        vertical-align: middle;\n",
       "    }\n",
       "\n",
       "    .dataframe tbody tr th {\n",
       "        vertical-align: top;\n",
       "    }\n",
       "\n",
       "    .dataframe thead th {\n",
       "        text-align: right;\n",
       "    }\n",
       "</style>\n",
       "<table border=\"1\" class=\"dataframe\">\n",
       "  <thead>\n",
       "    <tr style=\"text-align: right;\">\n",
       "      <th></th>\n",
       "      <th>OBJECTID</th>\n",
       "      <th>STOPID</th>\n",
       "      <th>STOPCODE</th>\n",
       "      <th>STOPNAME</th>\n",
       "      <th>STOPDESC</th>\n",
       "      <th>LOCATIONTYPE</th>\n",
       "      <th>STOPLAT</th>\n",
       "      <th>STOPLON</th>\n",
       "      <th>PARENTSTATION</th>\n",
       "      <th>MODE</th>\n",
       "      <th>geometry</th>\n",
       "      <th>lon</th>\n",
       "      <th>lat</th>\n",
       "      <th>u</th>\n",
       "      <th>v</th>\n",
       "      <th>dist</th>\n",
       "    </tr>\n",
       "  </thead>\n",
       "  <tbody>\n",
       "    <tr>\n",
       "      <th>0</th>\n",
       "      <td>1</td>\n",
       "      <td>97</td>\n",
       "      <td>97</td>\n",
       "      <td>Papakura Train Station</td>\n",
       "      <td>None</td>\n",
       "      <td>Stop</td>\n",
       "      <td>-37.064294</td>\n",
       "      <td>174.946114</td>\n",
       "      <td>None</td>\n",
       "      <td>Train</td>\n",
       "      <td>POINT (174.94611 -37.06429)</td>\n",
       "      <td>174.946114</td>\n",
       "      <td>-37.064294</td>\n",
       "      <td>1071743678</td>\n",
       "      <td>5882816768</td>\n",
       "      <td>0</td>\n",
       "    </tr>\n",
       "    <tr>\n",
       "      <th>1</th>\n",
       "      <td>2</td>\n",
       "      <td>98</td>\n",
       "      <td>98</td>\n",
       "      <td>Manurewa Train Station</td>\n",
       "      <td>None</td>\n",
       "      <td>Stop</td>\n",
       "      <td>-37.023268</td>\n",
       "      <td>174.896171</td>\n",
       "      <td>None</td>\n",
       "      <td>Train</td>\n",
       "      <td>POINT (174.89617 -37.02327)</td>\n",
       "      <td>174.896171</td>\n",
       "      <td>-37.023268</td>\n",
       "      <td>3843898501</td>\n",
       "      <td>7870811398</td>\n",
       "      <td>0</td>\n",
       "    </tr>\n",
       "    <tr>\n",
       "      <th>2</th>\n",
       "      <td>3</td>\n",
       "      <td>125</td>\n",
       "      <td>125</td>\n",
       "      <td>Henderson Train Station</td>\n",
       "      <td>None</td>\n",
       "      <td>Stop</td>\n",
       "      <td>-36.880965</td>\n",
       "      <td>174.630910</td>\n",
       "      <td>None</td>\n",
       "      <td>Train</td>\n",
       "      <td>POINT (174.63091 -36.88097)</td>\n",
       "      <td>174.630910</td>\n",
       "      <td>-36.880965</td>\n",
       "      <td>8323389695</td>\n",
       "      <td>711693102</td>\n",
       "      <td>0</td>\n",
       "    </tr>\n",
       "    <tr>\n",
       "      <th>3</th>\n",
       "      <td>4</td>\n",
       "      <td>127</td>\n",
       "      <td>127</td>\n",
       "      <td>Swanson Train Station</td>\n",
       "      <td>None</td>\n",
       "      <td>Stop</td>\n",
       "      <td>-36.866181</td>\n",
       "      <td>174.576300</td>\n",
       "      <td>None</td>\n",
       "      <td>Train</td>\n",
       "      <td>POINT (174.57630 -36.86618)</td>\n",
       "      <td>174.576300</td>\n",
       "      <td>-36.866181</td>\n",
       "      <td>9393064946</td>\n",
       "      <td>3490204785</td>\n",
       "      <td>0</td>\n",
       "    </tr>\n",
       "    <tr>\n",
       "      <th>4</th>\n",
       "      <td>5</td>\n",
       "      <td>113</td>\n",
       "      <td>113</td>\n",
       "      <td>Greenlane Train Station</td>\n",
       "      <td>None</td>\n",
       "      <td>Stop</td>\n",
       "      <td>-36.889657</td>\n",
       "      <td>174.797419</td>\n",
       "      <td>None</td>\n",
       "      <td>Train</td>\n",
       "      <td>POINT (174.79742 -36.88966)</td>\n",
       "      <td>174.797419</td>\n",
       "      <td>-36.889657</td>\n",
       "      <td>26010886</td>\n",
       "      <td>26010873</td>\n",
       "      <td>0</td>\n",
       "    </tr>\n",
       "  </tbody>\n",
       "</table>\n",
       "</div>"
      ],
      "text/plain": [
       "   OBJECTID  STOPID  STOPCODE                 STOPNAME STOPDESC LOCATIONTYPE  \\\n",
       "0         1      97        97   Papakura Train Station     None         Stop   \n",
       "1         2      98        98   Manurewa Train Station     None         Stop   \n",
       "2         3     125       125  Henderson Train Station     None         Stop   \n",
       "3         4     127       127    Swanson Train Station     None         Stop   \n",
       "4         5     113       113  Greenlane Train Station     None         Stop   \n",
       "\n",
       "     STOPLAT     STOPLON PARENTSTATION   MODE                     geometry  \\\n",
       "0 -37.064294  174.946114          None  Train  POINT (174.94611 -37.06429)   \n",
       "1 -37.023268  174.896171          None  Train  POINT (174.89617 -37.02327)   \n",
       "2 -36.880965  174.630910          None  Train  POINT (174.63091 -36.88097)   \n",
       "3 -36.866181  174.576300          None  Train  POINT (174.57630 -36.86618)   \n",
       "4 -36.889657  174.797419          None  Train  POINT (174.79742 -36.88966)   \n",
       "\n",
       "          lon        lat           u           v  dist  \n",
       "0  174.946114 -37.064294  1071743678  5882816768     0  \n",
       "1  174.896171 -37.023268  3843898501  7870811398     0  \n",
       "2  174.630910 -36.880965  8323389695   711693102     0  \n",
       "3  174.576300 -36.866181  9393064946  3490204785     0  \n",
       "4  174.797419 -36.889657    26010886    26010873     0  "
      ]
     },
     "execution_count": 105,
     "metadata": {},
     "output_type": "execute_result"
    }
   ],
   "source": [
    "stations[[\"u\", \"v\", \"dist\"]] = ox.distance.nearest_edges(G, X=stations[\"lon\"], Y=stations[\"lat\"])\n",
    "stations.head()"
   ]
  },
  {
   "cell_type": "code",
   "execution_count": 107,
   "id": "1fa3359b",
   "metadata": {},
   "outputs": [],
   "source": [
    "stations.to_file(\"data/transport/public_transport/trains_auckland_with_distances_on_network.gpkg\", layer='grid', driver=\"GPKG\")"
   ]
  }
 ],
 "metadata": {
  "kernelspec": {
   "display_name": "Python 3 (ipykernel)",
   "language": "python",
   "name": "python3"
  },
  "language_info": {
   "codemirror_mode": {
    "name": "ipython",
    "version": 3
   },
   "file_extension": ".py",
   "mimetype": "text/x-python",
   "name": "python",
   "nbconvert_exporter": "python",
   "pygments_lexer": "ipython3",
   "version": "3.10.6"
  }
 },
 "nbformat": 4,
 "nbformat_minor": 5
}
